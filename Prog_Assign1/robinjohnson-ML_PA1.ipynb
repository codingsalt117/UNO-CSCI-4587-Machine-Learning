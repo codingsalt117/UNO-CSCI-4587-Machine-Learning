{
 "cells": [
  {
   "cell_type": "markdown",
   "id": "3a95b62e",
   "metadata": {},
   "source": [
    "# CSCI 4587 Machine Learning\n",
    "## Programming Assignment 1\n",
    "### Robin Johnson"
   ]
  },
  {
   "cell_type": "markdown",
   "id": "866146f1",
   "metadata": {},
   "source": [
    "#### Imports:"
   ]
  },
  {
   "cell_type": "code",
   "execution_count": 1,
   "id": "cdeb6e05",
   "metadata": {},
   "outputs": [],
   "source": [
    "import numpy as np\n",
    "import pandas as pd\n",
    "import matplotlib.pyplot as plt\n",
    "from sklearn.model_selection import train_test_split\n",
    "from pandas.plotting import table\n",
    "from sklearn.ensemble import StackingClassifier\n",
    "from sklearn.ensemble import RandomForestClassifier, GradientBoostingClassifier, AdaBoostClassifier\n",
    "from sklearn.tree import ExtraTreeClassifier\n",
    "from sklearn.ensemble import BaggingClassifier\n",
    "from sklearn.tree import DecisionTreeClassifier\n",
    "from sklearn.linear_model import LogisticRegression\n",
    "from sklearn.svm import SVC\n",
    "from sklearn.neighbors import KNeighborsClassifier\n",
    "from sklearn.utils import shuffle\n",
    "from sklearn.model_selection import cross_val_predict\n",
    "from sklearn.metrics import accuracy_score, balanced_accuracy_score, matthews_corrcoef, recall_score, f1_score, precision_score, confusion_matrix"
   ]
  },
  {
   "cell_type": "markdown",
   "id": "6f9a542a",
   "metadata": {},
   "source": [
    "### Part 1 & Part 2"
   ]
  },
  {
   "cell_type": "code",
   "execution_count": 2,
   "id": "609e06f4",
   "metadata": {},
   "outputs": [
    {
     "data": {
      "text/html": [
       "<div>\n",
       "<style scoped>\n",
       "    .dataframe tbody tr th:only-of-type {\n",
       "        vertical-align: middle;\n",
       "    }\n",
       "\n",
       "    .dataframe tbody tr th {\n",
       "        vertical-align: top;\n",
       "    }\n",
       "\n",
       "    .dataframe thead th {\n",
       "        text-align: right;\n",
       "    }\n",
       "</style>\n",
       "<table border=\"1\" class=\"dataframe\">\n",
       "  <thead>\n",
       "    <tr style=\"text-align: right;\">\n",
       "      <th></th>\n",
       "      <th>sepal_length</th>\n",
       "      <th>sepal_width</th>\n",
       "      <th>petal_length</th>\n",
       "      <th>petal_width</th>\n",
       "      <th>class</th>\n",
       "    </tr>\n",
       "  </thead>\n",
       "  <tbody>\n",
       "    <tr>\n",
       "      <th>0</th>\n",
       "      <td>5.1</td>\n",
       "      <td>3.5</td>\n",
       "      <td>1.4</td>\n",
       "      <td>0.2</td>\n",
       "      <td>Iris-setosa</td>\n",
       "    </tr>\n",
       "    <tr>\n",
       "      <th>1</th>\n",
       "      <td>4.9</td>\n",
       "      <td>3.0</td>\n",
       "      <td>1.4</td>\n",
       "      <td>0.2</td>\n",
       "      <td>Iris-setosa</td>\n",
       "    </tr>\n",
       "    <tr>\n",
       "      <th>2</th>\n",
       "      <td>4.7</td>\n",
       "      <td>3.2</td>\n",
       "      <td>1.3</td>\n",
       "      <td>0.2</td>\n",
       "      <td>Iris-setosa</td>\n",
       "    </tr>\n",
       "    <tr>\n",
       "      <th>3</th>\n",
       "      <td>4.6</td>\n",
       "      <td>3.1</td>\n",
       "      <td>1.5</td>\n",
       "      <td>0.2</td>\n",
       "      <td>Iris-setosa</td>\n",
       "    </tr>\n",
       "    <tr>\n",
       "      <th>4</th>\n",
       "      <td>5.0</td>\n",
       "      <td>3.6</td>\n",
       "      <td>1.4</td>\n",
       "      <td>0.2</td>\n",
       "      <td>Iris-setosa</td>\n",
       "    </tr>\n",
       "    <tr>\n",
       "      <th>...</th>\n",
       "      <td>...</td>\n",
       "      <td>...</td>\n",
       "      <td>...</td>\n",
       "      <td>...</td>\n",
       "      <td>...</td>\n",
       "    </tr>\n",
       "    <tr>\n",
       "      <th>145</th>\n",
       "      <td>6.7</td>\n",
       "      <td>3.0</td>\n",
       "      <td>5.2</td>\n",
       "      <td>2.3</td>\n",
       "      <td>Iris-virginica</td>\n",
       "    </tr>\n",
       "    <tr>\n",
       "      <th>146</th>\n",
       "      <td>6.3</td>\n",
       "      <td>2.5</td>\n",
       "      <td>5.0</td>\n",
       "      <td>1.9</td>\n",
       "      <td>Iris-virginica</td>\n",
       "    </tr>\n",
       "    <tr>\n",
       "      <th>147</th>\n",
       "      <td>6.5</td>\n",
       "      <td>3.0</td>\n",
       "      <td>5.2</td>\n",
       "      <td>2.0</td>\n",
       "      <td>Iris-virginica</td>\n",
       "    </tr>\n",
       "    <tr>\n",
       "      <th>148</th>\n",
       "      <td>6.2</td>\n",
       "      <td>3.4</td>\n",
       "      <td>5.4</td>\n",
       "      <td>2.3</td>\n",
       "      <td>Iris-virginica</td>\n",
       "    </tr>\n",
       "    <tr>\n",
       "      <th>149</th>\n",
       "      <td>5.9</td>\n",
       "      <td>3.0</td>\n",
       "      <td>5.1</td>\n",
       "      <td>1.8</td>\n",
       "      <td>Iris-virginica</td>\n",
       "    </tr>\n",
       "  </tbody>\n",
       "</table>\n",
       "<p>150 rows × 5 columns</p>\n",
       "</div>"
      ],
      "text/plain": [
       "     sepal_length  sepal_width  petal_length  petal_width          class \n",
       "0             5.1          3.5           1.4          0.2     Iris-setosa\n",
       "1             4.9          3.0           1.4          0.2     Iris-setosa\n",
       "2             4.7          3.2           1.3          0.2     Iris-setosa\n",
       "3             4.6          3.1           1.5          0.2     Iris-setosa\n",
       "4             5.0          3.6           1.4          0.2     Iris-setosa\n",
       "..            ...          ...           ...          ...             ...\n",
       "145           6.7          3.0           5.2          2.3  Iris-virginica\n",
       "146           6.3          2.5           5.0          1.9  Iris-virginica\n",
       "147           6.5          3.0           5.2          2.0  Iris-virginica\n",
       "148           6.2          3.4           5.4          2.3  Iris-virginica\n",
       "149           5.9          3.0           5.1          1.8  Iris-virginica\n",
       "\n",
       "[150 rows x 5 columns]"
      ]
     },
     "execution_count": 2,
     "metadata": {},
     "output_type": "execute_result"
    }
   ],
   "source": [
    "iris = pd.read_csv(\"iris.arff\")\n",
    "iris"
   ]
  },
  {
   "cell_type": "code",
   "execution_count": 3,
   "id": "7ee287d3",
   "metadata": {},
   "outputs": [
    {
     "data": {
      "text/plain": [
       "Index(['sepal_length', 'sepal_width', 'petal_length', 'petal_width', 'class '], dtype='object')"
      ]
     },
     "execution_count": 3,
     "metadata": {},
     "output_type": "execute_result"
    }
   ],
   "source": [
    "iris.columns"
   ]
  },
  {
   "cell_type": "code",
   "execution_count": 4,
   "id": "2e49ac30",
   "metadata": {},
   "outputs": [
    {
     "data": {
      "text/plain": [
       "array(['Iris-setosa', 'Iris-versicolor', 'Iris-virginica'], dtype=object)"
      ]
     },
     "execution_count": 4,
     "metadata": {},
     "output_type": "execute_result"
    }
   ],
   "source": [
    "iris['class '].unique()"
   ]
  },
  {
   "cell_type": "markdown",
   "id": "1ae63702",
   "metadata": {},
   "source": [
    "#### Preprocessing"
   ]
  },
  {
   "cell_type": "code",
   "execution_count": 5,
   "id": "348534eb",
   "metadata": {},
   "outputs": [
    {
     "data": {
      "text/html": [
       "<div>\n",
       "<style scoped>\n",
       "    .dataframe tbody tr th:only-of-type {\n",
       "        vertical-align: middle;\n",
       "    }\n",
       "\n",
       "    .dataframe tbody tr th {\n",
       "        vertical-align: top;\n",
       "    }\n",
       "\n",
       "    .dataframe thead th {\n",
       "        text-align: right;\n",
       "    }\n",
       "</style>\n",
       "<table border=\"1\" class=\"dataframe\">\n",
       "  <thead>\n",
       "    <tr style=\"text-align: right;\">\n",
       "      <th></th>\n",
       "      <th>sepal_length</th>\n",
       "      <th>sepal_width</th>\n",
       "      <th>petal_length</th>\n",
       "      <th>petal_width</th>\n",
       "      <th>class</th>\n",
       "    </tr>\n",
       "  </thead>\n",
       "  <tbody>\n",
       "    <tr>\n",
       "      <th>0</th>\n",
       "      <td>5.1</td>\n",
       "      <td>3.5</td>\n",
       "      <td>1.4</td>\n",
       "      <td>0.2</td>\n",
       "      <td>0</td>\n",
       "    </tr>\n",
       "    <tr>\n",
       "      <th>1</th>\n",
       "      <td>4.9</td>\n",
       "      <td>3.0</td>\n",
       "      <td>1.4</td>\n",
       "      <td>0.2</td>\n",
       "      <td>0</td>\n",
       "    </tr>\n",
       "    <tr>\n",
       "      <th>2</th>\n",
       "      <td>4.7</td>\n",
       "      <td>3.2</td>\n",
       "      <td>1.3</td>\n",
       "      <td>0.2</td>\n",
       "      <td>0</td>\n",
       "    </tr>\n",
       "    <tr>\n",
       "      <th>3</th>\n",
       "      <td>4.6</td>\n",
       "      <td>3.1</td>\n",
       "      <td>1.5</td>\n",
       "      <td>0.2</td>\n",
       "      <td>0</td>\n",
       "    </tr>\n",
       "    <tr>\n",
       "      <th>4</th>\n",
       "      <td>5.0</td>\n",
       "      <td>3.6</td>\n",
       "      <td>1.4</td>\n",
       "      <td>0.2</td>\n",
       "      <td>0</td>\n",
       "    </tr>\n",
       "    <tr>\n",
       "      <th>...</th>\n",
       "      <td>...</td>\n",
       "      <td>...</td>\n",
       "      <td>...</td>\n",
       "      <td>...</td>\n",
       "      <td>...</td>\n",
       "    </tr>\n",
       "    <tr>\n",
       "      <th>145</th>\n",
       "      <td>6.7</td>\n",
       "      <td>3.0</td>\n",
       "      <td>5.2</td>\n",
       "      <td>2.3</td>\n",
       "      <td>2</td>\n",
       "    </tr>\n",
       "    <tr>\n",
       "      <th>146</th>\n",
       "      <td>6.3</td>\n",
       "      <td>2.5</td>\n",
       "      <td>5.0</td>\n",
       "      <td>1.9</td>\n",
       "      <td>2</td>\n",
       "    </tr>\n",
       "    <tr>\n",
       "      <th>147</th>\n",
       "      <td>6.5</td>\n",
       "      <td>3.0</td>\n",
       "      <td>5.2</td>\n",
       "      <td>2.0</td>\n",
       "      <td>2</td>\n",
       "    </tr>\n",
       "    <tr>\n",
       "      <th>148</th>\n",
       "      <td>6.2</td>\n",
       "      <td>3.4</td>\n",
       "      <td>5.4</td>\n",
       "      <td>2.3</td>\n",
       "      <td>2</td>\n",
       "    </tr>\n",
       "    <tr>\n",
       "      <th>149</th>\n",
       "      <td>5.9</td>\n",
       "      <td>3.0</td>\n",
       "      <td>5.1</td>\n",
       "      <td>1.8</td>\n",
       "      <td>2</td>\n",
       "    </tr>\n",
       "  </tbody>\n",
       "</table>\n",
       "<p>150 rows × 5 columns</p>\n",
       "</div>"
      ],
      "text/plain": [
       "     sepal_length  sepal_width  petal_length  petal_width  class \n",
       "0             5.1          3.5           1.4          0.2       0\n",
       "1             4.9          3.0           1.4          0.2       0\n",
       "2             4.7          3.2           1.3          0.2       0\n",
       "3             4.6          3.1           1.5          0.2       0\n",
       "4             5.0          3.6           1.4          0.2       0\n",
       "..            ...          ...           ...          ...     ...\n",
       "145           6.7          3.0           5.2          2.3       2\n",
       "146           6.3          2.5           5.0          1.9       2\n",
       "147           6.5          3.0           5.2          2.0       2\n",
       "148           6.2          3.4           5.4          2.3       2\n",
       "149           5.9          3.0           5.1          1.8       2\n",
       "\n",
       "[150 rows x 5 columns]"
      ]
     },
     "execution_count": 5,
     "metadata": {},
     "output_type": "execute_result"
    }
   ],
   "source": [
    "iriscp = iris.copy()\n",
    "replacement_list = {\"Iris-setosa\":0, \"Iris-versicolor\":1, \"Iris-virginica\":2}\n",
    "iriscp.replace({'class ': replacement_list}, inplace=True)\n",
    "iriscp"
   ]
  },
  {
   "cell_type": "code",
   "execution_count": 6,
   "id": "24999586",
   "metadata": {},
   "outputs": [
    {
     "data": {
      "text/html": [
       "<div>\n",
       "<style scoped>\n",
       "    .dataframe tbody tr th:only-of-type {\n",
       "        vertical-align: middle;\n",
       "    }\n",
       "\n",
       "    .dataframe tbody tr th {\n",
       "        vertical-align: top;\n",
       "    }\n",
       "\n",
       "    .dataframe thead th {\n",
       "        text-align: right;\n",
       "    }\n",
       "</style>\n",
       "<table border=\"1\" class=\"dataframe\">\n",
       "  <thead>\n",
       "    <tr style=\"text-align: right;\">\n",
       "      <th></th>\n",
       "      <th>sepal_length</th>\n",
       "      <th>sepal_width</th>\n",
       "      <th>petal_length</th>\n",
       "      <th>petal_width</th>\n",
       "      <th>class</th>\n",
       "    </tr>\n",
       "  </thead>\n",
       "  <tbody>\n",
       "    <tr>\n",
       "      <th>34</th>\n",
       "      <td>4.9</td>\n",
       "      <td>3.1</td>\n",
       "      <td>1.5</td>\n",
       "      <td>0.1</td>\n",
       "      <td>0</td>\n",
       "    </tr>\n",
       "    <tr>\n",
       "      <th>134</th>\n",
       "      <td>6.1</td>\n",
       "      <td>2.6</td>\n",
       "      <td>5.6</td>\n",
       "      <td>1.4</td>\n",
       "      <td>2</td>\n",
       "    </tr>\n",
       "    <tr>\n",
       "      <th>78</th>\n",
       "      <td>6.0</td>\n",
       "      <td>2.9</td>\n",
       "      <td>4.5</td>\n",
       "      <td>1.5</td>\n",
       "      <td>1</td>\n",
       "    </tr>\n",
       "    <tr>\n",
       "      <th>27</th>\n",
       "      <td>5.2</td>\n",
       "      <td>3.5</td>\n",
       "      <td>1.5</td>\n",
       "      <td>0.2</td>\n",
       "      <td>0</td>\n",
       "    </tr>\n",
       "    <tr>\n",
       "      <th>10</th>\n",
       "      <td>5.4</td>\n",
       "      <td>3.7</td>\n",
       "      <td>1.5</td>\n",
       "      <td>0.2</td>\n",
       "      <td>0</td>\n",
       "    </tr>\n",
       "    <tr>\n",
       "      <th>...</th>\n",
       "      <td>...</td>\n",
       "      <td>...</td>\n",
       "      <td>...</td>\n",
       "      <td>...</td>\n",
       "      <td>...</td>\n",
       "    </tr>\n",
       "    <tr>\n",
       "      <th>75</th>\n",
       "      <td>6.6</td>\n",
       "      <td>3.0</td>\n",
       "      <td>4.4</td>\n",
       "      <td>1.4</td>\n",
       "      <td>1</td>\n",
       "    </tr>\n",
       "    <tr>\n",
       "      <th>42</th>\n",
       "      <td>4.4</td>\n",
       "      <td>3.2</td>\n",
       "      <td>1.3</td>\n",
       "      <td>0.2</td>\n",
       "      <td>0</td>\n",
       "    </tr>\n",
       "    <tr>\n",
       "      <th>137</th>\n",
       "      <td>6.4</td>\n",
       "      <td>3.1</td>\n",
       "      <td>5.5</td>\n",
       "      <td>1.8</td>\n",
       "      <td>2</td>\n",
       "    </tr>\n",
       "    <tr>\n",
       "      <th>83</th>\n",
       "      <td>6.0</td>\n",
       "      <td>2.7</td>\n",
       "      <td>5.1</td>\n",
       "      <td>1.6</td>\n",
       "      <td>1</td>\n",
       "    </tr>\n",
       "    <tr>\n",
       "      <th>24</th>\n",
       "      <td>4.8</td>\n",
       "      <td>3.4</td>\n",
       "      <td>1.9</td>\n",
       "      <td>0.2</td>\n",
       "      <td>0</td>\n",
       "    </tr>\n",
       "  </tbody>\n",
       "</table>\n",
       "<p>150 rows × 5 columns</p>\n",
       "</div>"
      ],
      "text/plain": [
       "     sepal_length  sepal_width  petal_length  petal_width  class \n",
       "34            4.9          3.1           1.5          0.1       0\n",
       "134           6.1          2.6           5.6          1.4       2\n",
       "78            6.0          2.9           4.5          1.5       1\n",
       "27            5.2          3.5           1.5          0.2       0\n",
       "10            5.4          3.7           1.5          0.2       0\n",
       "..            ...          ...           ...          ...     ...\n",
       "75            6.6          3.0           4.4          1.4       1\n",
       "42            4.4          3.2           1.3          0.2       0\n",
       "137           6.4          3.1           5.5          1.8       2\n",
       "83            6.0          2.7           5.1          1.6       1\n",
       "24            4.8          3.4           1.9          0.2       0\n",
       "\n",
       "[150 rows x 5 columns]"
      ]
     },
     "execution_count": 6,
     "metadata": {},
     "output_type": "execute_result"
    }
   ],
   "source": [
    "iriscp_sh = shuffle(iriscp, random_state = 345)\n",
    "iriscp_sh"
   ]
  },
  {
   "cell_type": "code",
   "execution_count": 7,
   "id": "bb07d798",
   "metadata": {},
   "outputs": [
    {
     "name": "stdout",
     "output_type": "stream",
     "text": [
      "X\n",
      "     sepal_length  sepal_width  petal_length  petal_width\n",
      "34            4.9          3.1           1.5          0.1\n",
      "134           6.1          2.6           5.6          1.4\n",
      "78            6.0          2.9           4.5          1.5\n",
      "27            5.2          3.5           1.5          0.2\n",
      "10            5.4          3.7           1.5          0.2\n",
      "..            ...          ...           ...          ...\n",
      "75            6.6          3.0           4.4          1.4\n",
      "42            4.4          3.2           1.3          0.2\n",
      "137           6.4          3.1           5.5          1.8\n",
      "83            6.0          2.7           5.1          1.6\n",
      "24            4.8          3.4           1.9          0.2\n",
      "\n",
      "[150 rows x 4 columns]\n",
      "Y\n",
      "     class \n",
      "34        0\n",
      "134       2\n",
      "78        1\n",
      "27        0\n",
      "10        0\n",
      "..      ...\n",
      "75        1\n",
      "42        0\n",
      "137       2\n",
      "83        1\n",
      "24        0\n",
      "\n",
      "[150 rows x 1 columns]\n"
     ]
    }
   ],
   "source": [
    "X = iriscp_sh.iloc[:,0:4]\n",
    "print(\"X\")\n",
    "print(X)\n",
    "Y =iriscp_sh.iloc[:,4:5]\n",
    "print(\"Y\")\n",
    "print(Y)"
   ]
  },
  {
   "cell_type": "code",
   "execution_count": 8,
   "id": "b2a2900a",
   "metadata": {},
   "outputs": [
    {
     "data": {
      "text/plain": [
       "array([0, 2, 1, 0, 0, 1, 2, 0, 2, 1, 1, 0, 2, 0, 1, 2, 0, 0, 2, 0, 1, 0,\n",
       "       2, 0, 1, 0, 2, 2, 2, 1, 0, 1, 1, 0, 0, 0, 1, 2, 0, 1, 2, 0, 1, 0,\n",
       "       0, 1, 0, 0, 0, 1, 2, 2, 1, 2, 0, 1, 0, 2, 2, 2, 2, 1, 2, 1, 2, 0,\n",
       "       2, 1, 2, 2, 0, 0, 1, 0, 2, 2, 1, 2, 2, 0, 1, 1, 1, 2, 1, 0, 2, 1,\n",
       "       2, 1, 0, 1, 0, 2, 1, 0, 1, 0, 0, 0, 2, 2, 1, 2, 1, 2, 0, 2, 2, 1,\n",
       "       0, 2, 1, 2, 1, 1, 1, 1, 1, 1, 0, 2, 2, 0, 2, 0, 2, 2, 1, 1, 0, 2,\n",
       "       2, 2, 1, 0, 1, 1, 0, 1, 2, 0, 0, 0, 1, 1, 0, 2, 1, 0], dtype=int64)"
      ]
     },
     "execution_count": 8,
     "metadata": {},
     "output_type": "execute_result"
    }
   ],
   "source": [
    "y = Y.values.flatten()\n",
    "y"
   ]
  },
  {
   "cell_type": "markdown",
   "id": "bdfd301c",
   "metadata": {},
   "source": [
    "#### a)"
   ]
  },
  {
   "cell_type": "code",
   "execution_count": 9,
   "id": "f257fdfb",
   "metadata": {},
   "outputs": [
    {
     "data": {
      "text/plain": [
       "array([0, 1, 1, 0, 0, 1, 2, 0, 2, 1, 1, 0, 2, 0, 1, 2, 0, 0, 2, 0, 1, 0,\n",
       "       2, 0, 1, 0, 2, 2, 2, 1, 0, 1, 1, 0, 0, 0, 1, 2, 0, 2, 2, 0, 1, 0,\n",
       "       0, 1, 0, 0, 0, 1, 2, 2, 2, 2, 0, 1, 0, 2, 2, 2, 2, 1, 2, 1, 1, 0,\n",
       "       2, 1, 2, 2, 0, 0, 1, 0, 1, 1, 1, 2, 2, 0, 1, 1, 1, 2, 1, 0, 2, 1,\n",
       "       2, 1, 0, 0, 0, 2, 1, 0, 1, 0, 0, 0, 2, 2, 1, 2, 1, 2, 0, 1, 2, 1,\n",
       "       0, 2, 1, 2, 1, 1, 1, 1, 1, 1, 0, 2, 2, 0, 2, 1, 2, 2, 1, 1, 0, 2,\n",
       "       2, 2, 1, 0, 1, 1, 0, 1, 2, 0, 0, 0, 1, 1, 0, 2, 2, 0], dtype=int64)"
      ]
     },
     "execution_count": 9,
     "metadata": {},
     "output_type": "execute_result"
    }
   ],
   "source": [
    "etc = ExtraTreeClassifier()\n",
    "etc_ypredict = cross_val_predict(etc, X, y, cv=10, n_jobs=10)\n",
    "etc_ypredict"
   ]
  },
  {
   "cell_type": "markdown",
   "id": "6032ba16",
   "metadata": {},
   "source": [
    "#### Metrics"
   ]
  },
  {
   "cell_type": "code",
   "execution_count": 10,
   "id": "1e49c302",
   "metadata": {},
   "outputs": [],
   "source": [
    "etc_accuracy = accuracy_score(y, etc_ypredict)\n",
    "etc_bal_accuracy = balanced_accuracy_score(y, etc_ypredict)\n",
    "etc_mcc = matthews_corrcoef(y, etc_ypredict)\n",
    "etc_recall = recall_score(y, etc_ypredict, average='weighted')\n",
    "etc_precision = precision_score(y, etc_ypredict, average='weighted')\n",
    "etc_f1 = f1_score(y, etc_ypredict, average='weighted')\n",
    "etc_conf_matrix = confusion_matrix(y, etc_ypredict)\n",
    "etc_specificity = 2 * etc_bal_accuracy - etc_recall"
   ]
  },
  {
   "cell_type": "code",
   "execution_count": 11,
   "id": "9acb2829",
   "metadata": {},
   "outputs": [
    {
     "name": "stdout",
     "output_type": "stream",
     "text": [
      "Accuracy: 0.9333333333333333\n",
      "Balanced Accuracy: 0.9333333333333332\n",
      "Matthews Corrcoef: 0.9002400960426865\n",
      "Recall: 0.9333333333333333\n",
      "Precision: 0.9340384615384615\n",
      "F1: 0.9334427104175003\n",
      "Confucion Matrix:\n",
      " [[49  1  0]\n",
      " [ 1 46  3]\n",
      " [ 0  5 45]]\n",
      "Specificity: 0.9333333333333331\n"
     ]
    }
   ],
   "source": [
    "print(f\"Accuracy: {etc_accuracy}\")\n",
    "print(f\"Balanced Accuracy: {etc_bal_accuracy}\")\n",
    "print(f\"Matthews Corrcoef: {etc_mcc}\")\n",
    "print(f\"Recall: {etc_recall}\")\n",
    "print(f\"Precision: {etc_precision}\")\n",
    "print(f\"F1: {etc_f1}\")\n",
    "print(f\"Confucion Matrix:\\n {etc_conf_matrix}\")\n",
    "print(f\"Specificity: {etc_specificity}\")"
   ]
  },
  {
   "cell_type": "markdown",
   "id": "9d11547b",
   "metadata": {},
   "source": [
    "#### b)"
   ]
  },
  {
   "cell_type": "code",
   "execution_count": 12,
   "id": "d9c0553e",
   "metadata": {},
   "outputs": [
    {
     "data": {
      "text/plain": [
       "array([0, 2, 1, 0, 0, 1, 2, 0, 2, 1, 1, 0, 2, 0, 1, 2, 0, 0, 2, 0, 1, 0,\n",
       "       2, 0, 1, 0, 2, 2, 2, 1, 0, 1, 1, 0, 0, 0, 1, 2, 0, 2, 2, 0, 1, 0,\n",
       "       0, 1, 0, 0, 0, 1, 2, 2, 2, 2, 0, 1, 0, 2, 2, 2, 2, 1, 2, 1, 1, 0,\n",
       "       2, 1, 2, 2, 0, 0, 1, 0, 2, 1, 1, 2, 2, 0, 1, 1, 1, 2, 1, 0, 2, 1,\n",
       "       2, 1, 0, 1, 0, 2, 1, 0, 1, 0, 0, 0, 2, 2, 1, 2, 1, 2, 0, 1, 2, 1,\n",
       "       0, 2, 1, 2, 1, 1, 1, 1, 1, 1, 0, 2, 2, 0, 2, 0, 2, 2, 1, 1, 0, 2,\n",
       "       2, 2, 1, 0, 1, 1, 0, 1, 2, 0, 0, 0, 1, 1, 0, 2, 2, 0], dtype=int64)"
      ]
     },
     "execution_count": 12,
     "metadata": {},
     "output_type": "execute_result"
    }
   ],
   "source": [
    "bag = BaggingClassifier()\n",
    "bag_ypredict = cross_val_predict(bag, X, y, cv=10, n_jobs=10)\n",
    "bag_ypredict"
   ]
  },
  {
   "cell_type": "markdown",
   "id": "4df1bb17",
   "metadata": {},
   "source": [
    "#### Metrics"
   ]
  },
  {
   "cell_type": "code",
   "execution_count": 13,
   "id": "4d83030e",
   "metadata": {},
   "outputs": [],
   "source": [
    "bag_accuracy = accuracy_score(y, bag_ypredict)\n",
    "bag_bal_accuracy = balanced_accuracy_score(y, bag_ypredict)\n",
    "bag_mcc = matthews_corrcoef(y, bag_ypredict)\n",
    "bag_recall = recall_score(y, bag_ypredict, average='weighted')\n",
    "bag_precision = precision_score(y, bag_ypredict, average='weighted')\n",
    "bag_f1 = f1_score(y, bag_ypredict, average='weighted')\n",
    "bag_conf_matrix = confusion_matrix(y, bag_ypredict)\n",
    "bag_specificity = 2 * bag_bal_accuracy - bag_recall"
   ]
  },
  {
   "cell_type": "code",
   "execution_count": 14,
   "id": "a5987f45",
   "metadata": {},
   "outputs": [
    {
     "name": "stdout",
     "output_type": "stream",
     "text": [
      "Accuracy: 0.96\n",
      "Balanced Accuracy: 0.96\n",
      "Matthews Corrcoef: 0.94\n",
      "Recall: 0.96\n",
      "Precision: 0.96\n",
      "F1: 0.96\n",
      "Confucion Matrix:\n",
      " [[50  0  0]\n",
      " [ 0 47  3]\n",
      " [ 0  3 47]]\n",
      "Specificity: 0.96\n"
     ]
    }
   ],
   "source": [
    "print(f\"Accuracy: {bag_accuracy}\")\n",
    "print(f\"Balanced Accuracy: {bag_bal_accuracy}\")\n",
    "print(f\"Matthews Corrcoef: {bag_mcc}\")\n",
    "print(f\"Recall: {bag_recall}\")\n",
    "print(f\"Precision: {bag_precision}\")\n",
    "print(f\"F1: {bag_f1}\")\n",
    "print(f\"Confucion Matrix:\\n {bag_conf_matrix}\")\n",
    "print(f\"Specificity: {bag_specificity}\")"
   ]
  },
  {
   "cell_type": "markdown",
   "id": "333efcfa",
   "metadata": {},
   "source": [
    "#### c)"
   ]
  },
  {
   "cell_type": "code",
   "execution_count": 15,
   "id": "2575a0b9",
   "metadata": {},
   "outputs": [
    {
     "data": {
      "text/plain": [
       "array([0, 2, 1, 0, 0, 1, 2, 0, 2, 1, 1, 0, 2, 0, 1, 2, 0, 0, 2, 0, 1, 0,\n",
       "       2, 0, 1, 0, 2, 2, 2, 1, 0, 1, 1, 0, 0, 0, 1, 2, 0, 2, 2, 0, 1, 0,\n",
       "       0, 1, 0, 0, 0, 1, 2, 2, 2, 2, 0, 1, 0, 2, 2, 2, 2, 1, 2, 1, 2, 0,\n",
       "       2, 1, 2, 2, 0, 0, 1, 0, 2, 1, 1, 2, 2, 0, 1, 2, 1, 2, 1, 0, 2, 1,\n",
       "       2, 1, 0, 1, 0, 2, 1, 0, 1, 0, 0, 0, 2, 2, 1, 2, 1, 2, 0, 1, 2, 1,\n",
       "       0, 2, 1, 2, 1, 1, 1, 1, 1, 1, 0, 2, 2, 0, 2, 0, 2, 2, 1, 1, 0, 2,\n",
       "       2, 2, 1, 0, 1, 1, 0, 1, 2, 0, 0, 0, 1, 1, 0, 2, 2, 0], dtype=int64)"
      ]
     },
     "execution_count": 15,
     "metadata": {},
     "output_type": "execute_result"
    }
   ],
   "source": [
    "dtc = DecisionTreeClassifier()\n",
    "dtc_ypredict = cross_val_predict(dtc, X, y, cv=10, n_jobs=10)\n",
    "dtc_ypredict"
   ]
  },
  {
   "cell_type": "markdown",
   "id": "3e42e20c",
   "metadata": {},
   "source": [
    "#### Metrics"
   ]
  },
  {
   "cell_type": "code",
   "execution_count": 16,
   "id": "664b3344",
   "metadata": {},
   "outputs": [],
   "source": [
    "dtc_accuracy = accuracy_score(y, dtc_ypredict)\n",
    "dtc_bal_accuracy = balanced_accuracy_score(y, dtc_ypredict)\n",
    "dtc_mcc = matthews_corrcoef(y, dtc_ypredict)\n",
    "dtc_recall = recall_score(y, dtc_ypredict, average='weighted')\n",
    "dtc_precision = precision_score(y, dtc_ypredict, average='weighted')\n",
    "dtc_f1 = f1_score(y, dtc_ypredict, average='weighted')\n",
    "dtc_conf_matrix = confusion_matrix(y, dtc_ypredict)\n",
    "dtc_specificity = 2 * dtc_bal_accuracy - dtc_recall"
   ]
  },
  {
   "cell_type": "code",
   "execution_count": 17,
   "id": "07480d4f",
   "metadata": {},
   "outputs": [
    {
     "name": "stdout",
     "output_type": "stream",
     "text": [
      "Accuracy: 0.96\n",
      "Balanced Accuracy: 0.96\n",
      "Matthews Corrcoef: 0.9402507669779171\n",
      "Recall: 0.96\n",
      "Precision: 0.9604700854700855\n",
      "F1: 0.9599839935974389\n",
      "Confucion Matrix:\n",
      " [[50  0  0]\n",
      " [ 0 46  4]\n",
      " [ 0  2 48]]\n",
      "Specificity: 0.96\n"
     ]
    }
   ],
   "source": [
    "print(f\"Accuracy: {dtc_accuracy}\")\n",
    "print(f\"Balanced Accuracy: {dtc_bal_accuracy}\")\n",
    "print(f\"Matthews Corrcoef: {dtc_mcc}\")\n",
    "print(f\"Recall: {dtc_recall}\")\n",
    "print(f\"Precision: {dtc_precision}\")\n",
    "print(f\"F1: {dtc_f1}\")\n",
    "print(f\"Confucion Matrix:\\n {dtc_conf_matrix}\")\n",
    "print(f\"Specificity: {dtc_specificity}\")"
   ]
  },
  {
   "cell_type": "markdown",
   "id": "8762c842",
   "metadata": {},
   "source": [
    "#### d)"
   ]
  },
  {
   "cell_type": "code",
   "execution_count": 18,
   "id": "1cfa8a76",
   "metadata": {},
   "outputs": [
    {
     "data": {
      "text/plain": [
       "array([0, 2, 1, 0, 0, 1, 2, 0, 2, 1, 1, 0, 2, 0, 1, 2, 0, 0, 2, 0, 1, 0,\n",
       "       2, 0, 1, 0, 2, 2, 2, 1, 0, 1, 1, 0, 0, 0, 1, 2, 0, 2, 2, 0, 1, 0,\n",
       "       0, 1, 0, 0, 0, 1, 2, 2, 1, 2, 0, 1, 0, 2, 2, 2, 2, 1, 2, 1, 2, 0,\n",
       "       2, 2, 2, 2, 0, 0, 1, 0, 2, 2, 1, 2, 2, 0, 1, 1, 1, 2, 1, 0, 2, 1,\n",
       "       2, 1, 0, 1, 0, 2, 1, 0, 1, 0, 0, 0, 2, 2, 1, 2, 1, 2, 0, 2, 2, 2,\n",
       "       0, 1, 1, 2, 1, 2, 1, 1, 1, 1, 0, 2, 2, 0, 2, 0, 2, 2, 1, 1, 0, 2,\n",
       "       2, 2, 1, 0, 1, 1, 0, 1, 2, 0, 0, 0, 1, 1, 0, 2, 2, 0], dtype=int64)"
      ]
     },
     "execution_count": 18,
     "metadata": {},
     "output_type": "execute_result"
    }
   ],
   "source": [
    "lr = LogisticRegression(solver='liblinear')\n",
    "lr_ypredict = cross_val_predict(lr, X, y, cv=10, n_jobs=10)\n",
    "lr_ypredict"
   ]
  },
  {
   "cell_type": "markdown",
   "id": "5574d81a",
   "metadata": {},
   "source": [
    "#### Metrics"
   ]
  },
  {
   "cell_type": "code",
   "execution_count": 19,
   "id": "41f8d53f",
   "metadata": {},
   "outputs": [],
   "source": [
    "lr_accuracy = accuracy_score(y, lr_ypredict)\n",
    "lr_bal_accuracy = balanced_accuracy_score(y, lr_ypredict)\n",
    "lr_mcc = matthews_corrcoef(y, lr_ypredict)\n",
    "lr_recall = recall_score(y, lr_ypredict, average='weighted')\n",
    "lr_precision = precision_score(y, lr_ypredict, average='weighted')\n",
    "lr_f1 = f1_score(y, lr_ypredict, average='weighted')\n",
    "lr_conf_matrix = confusion_matrix(y, lr_ypredict)\n",
    "lr_specificity = 2 * lr_bal_accuracy - lr_recall"
   ]
  },
  {
   "cell_type": "code",
   "execution_count": 20,
   "id": "c7c4a216",
   "metadata": {},
   "outputs": [
    {
     "name": "stdout",
     "output_type": "stream",
     "text": [
      "Accuracy: 0.96\n",
      "Balanced Accuracy: 0.96\n",
      "Matthews Corrcoef: 0.941004273790697\n",
      "Recall: 0.96\n",
      "Precision: 0.9618894256575417\n",
      "F1: 0.9599358974358975\n",
      "Confucion Matrix:\n",
      " [[50  0  0]\n",
      " [ 0 45  5]\n",
      " [ 0  1 49]]\n",
      "Specificity: 0.96\n"
     ]
    }
   ],
   "source": [
    "print(f\"Accuracy: {lr_accuracy}\")\n",
    "print(f\"Balanced Accuracy: {lr_bal_accuracy}\")\n",
    "print(f\"Matthews Corrcoef: {lr_mcc}\")\n",
    "print(f\"Recall: {lr_recall}\")\n",
    "print(f\"Precision: {lr_precision}\")\n",
    "print(f\"F1: {lr_f1}\")\n",
    "print(f\"Confucion Matrix:\\n {lr_conf_matrix}\")\n",
    "print(f\"Specificity: {lr_specificity}\")"
   ]
  },
  {
   "cell_type": "markdown",
   "id": "7a194ffc",
   "metadata": {},
   "source": [
    "#### e)"
   ]
  },
  {
   "cell_type": "code",
   "execution_count": 21,
   "id": "cf240de8",
   "metadata": {},
   "outputs": [
    {
     "data": {
      "text/plain": [
       "array([0, 2, 1, 0, 0, 1, 2, 0, 2, 1, 1, 0, 2, 0, 1, 2, 0, 0, 2, 0, 1, 0,\n",
       "       2, 0, 1, 0, 2, 2, 2, 1, 0, 1, 1, 0, 0, 0, 1, 1, 0, 1, 2, 0, 1, 0,\n",
       "       0, 1, 0, 0, 0, 1, 2, 2, 2, 2, 0, 1, 0, 2, 2, 2, 2, 1, 2, 1, 1, 0,\n",
       "       2, 1, 2, 2, 0, 0, 1, 0, 1, 2, 1, 2, 2, 0, 1, 1, 1, 2, 1, 0, 2, 1,\n",
       "       2, 1, 0, 1, 0, 2, 1, 0, 1, 0, 0, 0, 2, 2, 1, 2, 1, 2, 0, 1, 2, 1,\n",
       "       0, 2, 1, 2, 1, 1, 1, 1, 1, 1, 0, 2, 2, 0, 2, 0, 2, 2, 1, 1, 0, 2,\n",
       "       2, 2, 1, 0, 1, 1, 0, 1, 2, 0, 0, 0, 1, 1, 0, 2, 2, 0], dtype=int64)"
      ]
     },
     "execution_count": 21,
     "metadata": {},
     "output_type": "execute_result"
    }
   ],
   "source": [
    "svc = SVC()\n",
    "svc_ypredict = cross_val_predict(svc, X, y, cv=10, n_jobs=10)\n",
    "svc_ypredict"
   ]
  },
  {
   "cell_type": "markdown",
   "id": "3200b2c5",
   "metadata": {},
   "source": [
    "#### Metrics"
   ]
  },
  {
   "cell_type": "code",
   "execution_count": 22,
   "id": "6232062d",
   "metadata": {},
   "outputs": [],
   "source": [
    "svc_accuracy = accuracy_score(y, svc_ypredict)\n",
    "svc_bal_accuracy = balanced_accuracy_score(y, svc_ypredict)\n",
    "svc_mcc = matthews_corrcoef(y, svc_ypredict)\n",
    "svc_recall = recall_score(y, svc_ypredict, average='weighted')\n",
    "svc_precision = precision_score(y, svc_ypredict, average='weighted')\n",
    "svc_f1 = f1_score(y, svc_ypredict, average='weighted')\n",
    "svc_conf_matrix = confusion_matrix(y, svc_ypredict)\n",
    "svc_specificity = 2 * svc_bal_accuracy - svc_recall"
   ]
  },
  {
   "cell_type": "code",
   "execution_count": 23,
   "id": "41ba5a32",
   "metadata": {},
   "outputs": [
    {
     "name": "stdout",
     "output_type": "stream",
     "text": [
      "Accuracy: 0.96\n",
      "Balanced Accuracy: 0.96\n",
      "Matthews Corrcoef: 0.9402507669779171\n",
      "Recall: 0.96\n",
      "Precision: 0.9604700854700855\n",
      "F1: 0.9599839935974391\n",
      "Confucion Matrix:\n",
      " [[50  0  0]\n",
      " [ 0 48  2]\n",
      " [ 0  4 46]]\n",
      "Specificity: 0.96\n"
     ]
    }
   ],
   "source": [
    "print(f\"Accuracy: {svc_accuracy}\")\n",
    "print(f\"Balanced Accuracy: {svc_bal_accuracy}\")\n",
    "print(f\"Matthews Corrcoef: {svc_mcc}\")\n",
    "print(f\"Recall: {svc_recall}\")\n",
    "print(f\"Precision: {svc_precision}\")\n",
    "print(f\"F1: {svc_f1}\")\n",
    "print(f\"Confucion Matrix:\\n {svc_conf_matrix}\")\n",
    "print(f\"Specificity: {svc_specificity}\")"
   ]
  },
  {
   "cell_type": "markdown",
   "id": "50c03b01",
   "metadata": {},
   "source": [
    "#### f)"
   ]
  },
  {
   "cell_type": "code",
   "execution_count": 24,
   "id": "9b44c5a0",
   "metadata": {},
   "outputs": [
    {
     "data": {
      "text/plain": [
       "array([0, 2, 1, 0, 0, 1, 2, 0, 2, 1, 1, 0, 2, 0, 1, 2, 0, 0, 2, 0, 1, 0,\n",
       "       2, 0, 1, 0, 2, 2, 2, 1, 0, 1, 1, 0, 0, 0, 1, 2, 0, 2, 2, 0, 1, 0,\n",
       "       0, 1, 0, 0, 0, 1, 2, 2, 2, 2, 0, 1, 0, 2, 2, 2, 2, 1, 2, 1, 1, 0,\n",
       "       2, 1, 2, 2, 0, 0, 1, 0, 2, 2, 1, 2, 2, 0, 1, 2, 1, 2, 1, 0, 2, 1,\n",
       "       2, 1, 0, 1, 0, 2, 1, 0, 1, 0, 0, 0, 2, 2, 1, 2, 1, 2, 0, 1, 2, 1,\n",
       "       0, 2, 1, 2, 1, 1, 1, 1, 1, 1, 0, 2, 2, 0, 2, 0, 2, 2, 1, 1, 0, 2,\n",
       "       2, 2, 1, 0, 1, 1, 0, 1, 2, 0, 0, 0, 1, 1, 0, 2, 2, 0], dtype=int64)"
      ]
     },
     "execution_count": 24,
     "metadata": {},
     "output_type": "execute_result"
    }
   ],
   "source": [
    "knn = KNeighborsClassifier(n_neighbors=5)\n",
    "knn_ypredict = cross_val_predict(knn, X, y, cv=10, n_jobs=10)\n",
    "knn_ypredict"
   ]
  },
  {
   "cell_type": "markdown",
   "id": "e5e8a3c2",
   "metadata": {},
   "source": [
    "#### Metrics"
   ]
  },
  {
   "cell_type": "code",
   "execution_count": 25,
   "id": "4858d287",
   "metadata": {},
   "outputs": [],
   "source": [
    "knn_accuracy = accuracy_score(y, knn_ypredict)\n",
    "knn_bal_accuracy = balanced_accuracy_score(y, knn_ypredict)\n",
    "knn_mcc = matthews_corrcoef(y, knn_ypredict)\n",
    "knn_recall = recall_score(y, knn_ypredict, average='weighted')\n",
    "knn_precision = precision_score(y, knn_ypredict, average='weighted')\n",
    "knn_f1 = f1_score(y, knn_ypredict, average='weighted')\n",
    "knn_conf_matrix = confusion_matrix(y, knn_ypredict)\n",
    "knn_specificity = 2 * knn_bal_accuracy - knn_recall"
   ]
  },
  {
   "cell_type": "code",
   "execution_count": 26,
   "id": "7e7de68e",
   "metadata": {
    "scrolled": true
   },
   "outputs": [
    {
     "name": "stdout",
     "output_type": "stream",
     "text": [
      "Accuracy: 0.96\n",
      "Balanced Accuracy: 0.96\n",
      "Matthews Corrcoef: 0.9402507669779171\n",
      "Recall: 0.96\n",
      "Precision: 0.9604700854700855\n",
      "F1: 0.9599839935974389\n",
      "Confucion Matrix:\n",
      " [[50  0  0]\n",
      " [ 0 46  4]\n",
      " [ 0  2 48]]\n",
      "Specificity: 0.96\n"
     ]
    }
   ],
   "source": [
    "print(f\"Accuracy: {knn_accuracy}\")\n",
    "print(f\"Balanced Accuracy: {knn_bal_accuracy}\")\n",
    "print(f\"Matthews Corrcoef: {knn_mcc}\")\n",
    "print(f\"Recall: {knn_recall}\")\n",
    "print(f\"Precision: {knn_precision}\")\n",
    "print(f\"F1: {knn_f1}\")\n",
    "print(f\"Confucion Matrix:\\n {knn_conf_matrix}\")\n",
    "print(f\"Specificity: {knn_specificity}\")"
   ]
  },
  {
   "cell_type": "markdown",
   "id": "ae687f16",
   "metadata": {},
   "source": [
    "#### Graph comparing based on balanced accuracy"
   ]
  },
  {
   "cell_type": "code",
   "execution_count": 27,
   "id": "e280114c",
   "metadata": {},
   "outputs": [],
   "source": [
    "models = ['KNeighbors', 'SVC', 'DecisionTree', 'Bagging', 'ExtraTree', 'LogisticRegression']\n",
    "balanced_accuracies = [knn_bal_accuracy, svc_bal_accuracy, dtc_bal_accuracy, bag_bal_accuracy, etc_bal_accuracy, lr_bal_accuracy]"
   ]
  },
  {
   "cell_type": "code",
   "execution_count": 28,
   "id": "2f23690d",
   "metadata": {},
   "outputs": [
    {
     "data": {
      "image/png": "[encoded data removed]",
      "text/plain": [
       "<Figure size 1000x600 with 1 Axes>"
      ]
     },
     "metadata": {},
     "output_type": "display_data"
    }
   ],
   "source": [
    "plt.figure(figsize=(10, 6))\n",
    "plt.plot(models, balanced_accuracies, marker='o', linestyle='-')\n",
    "plt.xlabel('Models')\n",
    "plt.ylabel('Balanced Accuracy')\n",
    "plt.title('Comparison of Balanced Accuracy for the Different Models')\n",
    "plt.ylim(0.7, 1.0)  # Set the y-axis limit to ensure the same scale\n",
    "plt.xticks(rotation=45)  # Rotate x-axis labels for readability\n",
    "plt.grid(True)  # Add gridlines for better visualization\n",
    "plt.tight_layout()\n",
    "plt.show()"
   ]
  },
  {
   "cell_type": "markdown",
   "id": "267cf156",
   "metadata": {},
   "source": [
    "#### Table containing metrics of all models above"
   ]
  },
  {
   "cell_type": "code",
   "execution_count": 29,
   "id": "586ae28b",
   "metadata": {},
   "outputs": [
    {
     "data": {
      "text/html": [
       "<div>\n",
       "<style scoped>\n",
       "    .dataframe tbody tr th:only-of-type {\n",
       "        vertical-align: middle;\n",
       "    }\n",
       "\n",
       "    .dataframe tbody tr th {\n",
       "        vertical-align: top;\n",
       "    }\n",
       "\n",
       "    .dataframe thead th {\n",
       "        text-align: right;\n",
       "    }\n",
       "</style>\n",
       "<table border=\"1\" class=\"dataframe\">\n",
       "  <thead>\n",
       "    <tr style=\"text-align: right;\">\n",
       "      <th></th>\n",
       "      <th>Model</th>\n",
       "      <th>Accuracy</th>\n",
       "      <th>Balanced Accuracy</th>\n",
       "      <th>Matthews Corrcoef</th>\n",
       "      <th>Recall</th>\n",
       "      <th>Precision</th>\n",
       "      <th>F1</th>\n",
       "      <th>Specificity</th>\n",
       "      <th>Confusion Matrix</th>\n",
       "    </tr>\n",
       "  </thead>\n",
       "  <tbody>\n",
       "    <tr>\n",
       "      <th>0</th>\n",
       "      <td>KNeighbors</td>\n",
       "      <td>0.960000</td>\n",
       "      <td>0.960000</td>\n",
       "      <td>0.940251</td>\n",
       "      <td>0.960000</td>\n",
       "      <td>0.960470</td>\n",
       "      <td>0.959984</td>\n",
       "      <td>0.960000</td>\n",
       "      <td>[[50, 0, 0], [0, 46, 4], [0, 2, 48]]</td>\n",
       "    </tr>\n",
       "    <tr>\n",
       "      <th>1</th>\n",
       "      <td>SVC</td>\n",
       "      <td>0.960000</td>\n",
       "      <td>0.960000</td>\n",
       "      <td>0.940251</td>\n",
       "      <td>0.960000</td>\n",
       "      <td>0.960470</td>\n",
       "      <td>0.959984</td>\n",
       "      <td>0.960000</td>\n",
       "      <td>[[50, 0, 0], [0, 48, 2], [0, 4, 46]]</td>\n",
       "    </tr>\n",
       "    <tr>\n",
       "      <th>2</th>\n",
       "      <td>DecisionTree</td>\n",
       "      <td>0.960000</td>\n",
       "      <td>0.960000</td>\n",
       "      <td>0.940251</td>\n",
       "      <td>0.960000</td>\n",
       "      <td>0.960470</td>\n",
       "      <td>0.959984</td>\n",
       "      <td>0.960000</td>\n",
       "      <td>[[50, 0, 0], [0, 46, 4], [0, 2, 48]]</td>\n",
       "    </tr>\n",
       "    <tr>\n",
       "      <th>3</th>\n",
       "      <td>Bagging</td>\n",
       "      <td>0.960000</td>\n",
       "      <td>0.960000</td>\n",
       "      <td>0.940000</td>\n",
       "      <td>0.960000</td>\n",
       "      <td>0.960000</td>\n",
       "      <td>0.960000</td>\n",
       "      <td>0.960000</td>\n",
       "      <td>[[50, 0, 0], [0, 47, 3], [0, 3, 47]]</td>\n",
       "    </tr>\n",
       "    <tr>\n",
       "      <th>4</th>\n",
       "      <td>ExtraTree</td>\n",
       "      <td>0.933333</td>\n",
       "      <td>0.933333</td>\n",
       "      <td>0.900240</td>\n",
       "      <td>0.933333</td>\n",
       "      <td>0.934038</td>\n",
       "      <td>0.933443</td>\n",
       "      <td>0.933333</td>\n",
       "      <td>[[49, 1, 0], [1, 46, 3], [0, 5, 45]]</td>\n",
       "    </tr>\n",
       "    <tr>\n",
       "      <th>5</th>\n",
       "      <td>LogisticRegression</td>\n",
       "      <td>0.960000</td>\n",
       "      <td>0.960000</td>\n",
       "      <td>0.941004</td>\n",
       "      <td>0.960000</td>\n",
       "      <td>0.961889</td>\n",
       "      <td>0.959936</td>\n",
       "      <td>0.960000</td>\n",
       "      <td>[[50, 0, 0], [0, 45, 5], [0, 1, 49]]</td>\n",
       "    </tr>\n",
       "  </tbody>\n",
       "</table>\n",
       "</div>"
      ],
      "text/plain": [
       "                Model  Accuracy  Balanced Accuracy  Matthews Corrcoef  \\\n",
       "0          KNeighbors  0.960000           0.960000           0.940251   \n",
       "1                 SVC  0.960000           0.960000           0.940251   \n",
       "2        DecisionTree  0.960000           0.960000           0.940251   \n",
       "3             Bagging  0.960000           0.960000           0.940000   \n",
       "4           ExtraTree  0.933333           0.933333           0.900240   \n",
       "5  LogisticRegression  0.960000           0.960000           0.941004   \n",
       "\n",
       "     Recall  Precision        F1  Specificity  \\\n",
       "0  0.960000   0.960470  0.959984     0.960000   \n",
       "1  0.960000   0.960470  0.959984     0.960000   \n",
       "2  0.960000   0.960470  0.959984     0.960000   \n",
       "3  0.960000   0.960000  0.960000     0.960000   \n",
       "4  0.933333   0.934038  0.933443     0.933333   \n",
       "5  0.960000   0.961889  0.959936     0.960000   \n",
       "\n",
       "                       Confusion Matrix  \n",
       "0  [[50, 0, 0], [0, 46, 4], [0, 2, 48]]  \n",
       "1  [[50, 0, 0], [0, 48, 2], [0, 4, 46]]  \n",
       "2  [[50, 0, 0], [0, 46, 4], [0, 2, 48]]  \n",
       "3  [[50, 0, 0], [0, 47, 3], [0, 3, 47]]  \n",
       "4  [[49, 1, 0], [1, 46, 3], [0, 5, 45]]  \n",
       "5  [[50, 0, 0], [0, 45, 5], [0, 1, 49]]  "
      ]
     },
     "execution_count": 29,
     "metadata": {},
     "output_type": "execute_result"
    }
   ],
   "source": [
    "data = {\n",
    "    'Model': ['KNeighbors', 'SVC', 'DecisionTree', 'Bagging', 'ExtraTree', 'LogisticRegression'],\n",
    "    'Accuracy': [knn_accuracy, svc_accuracy, dtc_accuracy, bag_accuracy, etc_accuracy, lr_accuracy],\n",
    "    'Balanced Accuracy': [knn_bal_accuracy, svc_bal_accuracy, dtc_bal_accuracy, bag_bal_accuracy, etc_bal_accuracy, lr_bal_accuracy],\n",
    "    'Matthews Corrcoef': [knn_mcc, svc_mcc, dtc_mcc, bag_mcc, etc_mcc, lr_mcc],\n",
    "    'Recall': [knn_recall, svc_recall, dtc_recall, bag_recall, etc_recall, lr_recall],\n",
    "    'Precision': [knn_precision, svc_precision, dtc_precision, bag_precision, etc_precision, lr_precision],\n",
    "    'F1': [knn_f1, svc_f1, dtc_f1, bag_f1, etc_f1, lr_f1],\n",
    "    'Specificity': [knn_specificity, svc_specificity, dtc_specificity, bag_specificity, etc_specificity, lr_specificity],\n",
    "    'Confusion Matrix': [knn_conf_matrix, svc_conf_matrix, dtc_conf_matrix, bag_conf_matrix, etc_conf_matrix, lr_conf_matrix]\n",
    "}\n",
    "\n",
    "model_metric_table = pd.DataFrame(data)\n",
    "model_metric_table.to_csv('model_metrics.csv', index=False)\n",
    "model_metric_table\n"
   ]
  },
  {
   "cell_type": "code",
   "execution_count": 30,
   "id": "f4b57618",
   "metadata": {},
   "outputs": [
    {
     "name": "stderr",
     "output_type": "stream",
     "text": [
      "C:\\Users\\green\\Anadconda\\lib\\site-packages\\matplotlib\\text.py:1279: FutureWarning: elementwise comparison failed; returning scalar instead, but in the future will perform elementwise comparison\n",
      "  if s != self._text:\n"
     ]
    },
    {
     "data": {
      "image/png": "[encoded data removed]",
      "text/plain": [
       "<Figure size 1000x600 with 1 Axes>"
      ]
     },
     "metadata": {},
     "output_type": "display_data"
    }
   ],
   "source": [
    "fig, ax = plt.subplots(figsize=(10, 6))\n",
    "ax.axis('off')\n",
    "tbl = table(ax, model_metric_table, loc='center', cellLoc='center', colWidths=[0.15, 0.15, 0.15, 0.15, 0.15, 0.15, 0.15, 0.15, 0.15])\n",
    "tbl.auto_set_font_size(False)\n",
    "tbl.set_fontsize(10)\n",
    "tbl.scale(1.5, 3.0)  # Adjust the scaling factor as needed\n",
    "\n",
    "plt.savefig('pt1&2_table_image.png', bbox_inches='tight', pad_inches=0.1, dpi=300)\n"
   ]
  },
  {
   "cell_type": "markdown",
   "id": "6d08c74b",
   "metadata": {},
   "source": [
    "### Part 3"
   ]
  },
  {
   "cell_type": "code",
   "execution_count": 31,
   "id": "16761ccc",
   "metadata": {},
   "outputs": [],
   "source": [
    "X_train, X_test, y_train, y_test = train_test_split(X, y, test_size=0.2, random_state=42)"
   ]
  },
  {
   "cell_type": "markdown",
   "id": "2f04d58a",
   "metadata": {},
   "source": [
    "Ensemble Classifier 1"
   ]
  },
  {
   "cell_type": "code",
   "execution_count": 32,
   "id": "e30e6e3a",
   "metadata": {},
   "outputs": [],
   "source": [
    "ensemble1_base_1 = RandomForestClassifier()\n",
    "ensemble1_base_2 = GradientBoostingClassifier()\n",
    "ensemble1_base_3 = AdaBoostClassifier()"
   ]
  },
  {
   "cell_type": "code",
   "execution_count": 33,
   "id": "2ea3e25f",
   "metadata": {},
   "outputs": [
    {
     "data": {
      "text/html": [
       "<style>#sk-container-id-1 {color: black;background-color: white;}#sk-container-id-1 pre{padding: 0;}#sk-container-id-1 div.sk-toggleable {background-color: white;}#sk-container-id-1 label.sk-toggleable__label {cursor: pointer;display: block;width: 100%;margin-bottom: 0;padding: 0.3em;box-sizing: border-box;text-align: center;}#sk-container-id-1 label.sk-toggleable__label-arrow:before {content: \"▸\";float: left;margin-right: 0.25em;color: #696969;}#sk-container-id-1 label.sk-toggleable__label-arrow:hover:before {color: black;}#sk-container-id-1 div.sk-estimator:hover label.sk-toggleable__label-arrow:before {color: black;}#sk-container-id-1 div.sk-toggleable__content {max-height: 0;max-width: 0;overflow: hidden;text-align: left;background-color: #f0f8ff;}#sk-container-id-1 div.sk-toggleable__content pre {margin: 0.2em;color: black;border-radius: 0.25em;background-color: #f0f8ff;}#sk-container-id-1 input.sk-toggleable__control:checked~div.sk-toggleable__content {max-height: 200px;max-width: 100%;overflow: auto;}#sk-container-id-1 input.sk-toggleable__control:checked~label.sk-toggleable__label-arrow:before {content: \"▾\";}#sk-container-id-1 div.sk-estimator input.sk-toggleable__control:checked~label.sk-toggleable__label {background-color: #d4ebff;}#sk-container-id-1 div.sk-label input.sk-toggleable__control:checked~label.sk-toggleable__label {background-color: #d4ebff;}#sk-container-id-1 input.sk-hidden--visually {border: 0;clip: rect(1px 1px 1px 1px);clip: rect(1px, 1px, 1px, 1px);height: 1px;margin: -1px;overflow: hidden;padding: 0;position: absolute;width: 1px;}#sk-container-id-1 div.sk-estimator {font-family: monospace;background-color: #f0f8ff;border: 1px dotted black;border-radius: 0.25em;box-sizing: border-box;margin-bottom: 0.5em;}#sk-container-id-1 div.sk-estimator:hover {background-color: #d4ebff;}#sk-container-id-1 div.sk-parallel-item::after {content: \"\";width: 100%;border-bottom: 1px solid gray;flex-grow: 1;}#sk-container-id-1 div.sk-label:hover label.sk-toggleable__label {background-color: #d4ebff;}#sk-container-id-1 div.sk-serial::before {content: \"\";position: absolute;border-left: 1px solid gray;box-sizing: border-box;top: 0;bottom: 0;left: 50%;z-index: 0;}#sk-container-id-1 div.sk-serial {display: flex;flex-direction: column;align-items: center;background-color: white;padding-right: 0.2em;padding-left: 0.2em;position: relative;}#sk-container-id-1 div.sk-item {position: relative;z-index: 1;}#sk-container-id-1 div.sk-parallel {display: flex;align-items: stretch;justify-content: center;background-color: white;position: relative;}#sk-container-id-1 div.sk-item::before, #sk-container-id-1 div.sk-parallel-item::before {content: \"\";position: absolute;border-left: 1px solid gray;box-sizing: border-box;top: 0;bottom: 0;left: 50%;z-index: -1;}#sk-container-id-1 div.sk-parallel-item {display: flex;flex-direction: column;z-index: 1;position: relative;background-color: white;}#sk-container-id-1 div.sk-parallel-item:first-child::after {align-self: flex-end;width: 50%;}#sk-container-id-1 div.sk-parallel-item:last-child::after {align-self: flex-start;width: 50%;}#sk-container-id-1 div.sk-parallel-item:only-child::after {width: 0;}#sk-container-id-1 div.sk-dashed-wrapped {border: 1px dashed gray;margin: 0 0.4em 0.5em 0.4em;box-sizing: border-box;padding-bottom: 0.4em;background-color: white;}#sk-container-id-1 div.sk-label label {font-family: monospace;font-weight: bold;display: inline-block;line-height: 1.2em;}#sk-container-id-1 div.sk-label-container {text-align: center;}#sk-container-id-1 div.sk-container {/* jupyter's `normalize.less` sets `[hidden] { display: none; }` but bootstrap.min.css set `[hidden] { display: none !important; }` so we also need the `!important` here to be able to override the default hidden behavior on the sphinx rendered scikit-learn.org. See: https://github.com/scikit-learn/scikit-learn/issues/21755 */display: inline-block !important;position: relative;}#sk-container-id-1 div.sk-text-repr-fallback {display: none;}</style><div id=\"sk-container-id-1\" class=\"sk-top-container\"><div class=\"sk-text-repr-fallback\"><pre>AdaBoostClassifier()</pre><b>In a Jupyter environment, please rerun this cell to show the HTML representation or trust the notebook. <br />On GitHub, the HTML representation is unable to render, please try loading this page with nbviewer.org.</b></div><div class=\"sk-container\" hidden><div class=\"sk-item\"><div class=\"sk-estimator sk-toggleable\"><input class=\"sk-toggleable__control sk-hidden--visually\" id=\"sk-estimator-id-1\" type=\"checkbox\" checked><label for=\"sk-estimator-id-1\" class=\"sk-toggleable__label sk-toggleable__label-arrow\">AdaBoostClassifier</label><div class=\"sk-toggleable__content\"><pre>AdaBoostClassifier()</pre></div></div></div></div></div>"
      ],
      "text/plain": [
       "AdaBoostClassifier()"
      ]
     },
     "execution_count": 33,
     "metadata": {},
     "output_type": "execute_result"
    }
   ],
   "source": [
    "ensemble1_base_1.fit(X_train,y_train)\n",
    "ensemble1_base_2.fit(X_train,y_train)\n",
    "ensemble1_base_3.fit(X_train,y_train)"
   ]
  },
  {
   "cell_type": "code",
   "execution_count": 34,
   "id": "50ae473b",
   "metadata": {},
   "outputs": [],
   "source": [
    "ensemble1_probab1 = ensemble1_base_1.predict_proba(X_test)\n",
    "ensemble1_probab2 = ensemble1_base_2.predict_proba(X_test)\n",
    "ensemble1_probab3 = ensemble1_base_3.predict_proba(X_test)"
   ]
  },
  {
   "cell_type": "code",
   "execution_count": 35,
   "id": "5cc040e7",
   "metadata": {},
   "outputs": [],
   "source": [
    "ensemble1_meta_stack = np.column_stack((ensemble1_probab1, ensemble1_probab2, ensemble1_probab3))"
   ]
  },
  {
   "cell_type": "code",
   "execution_count": 36,
   "id": "33b0a4e3",
   "metadata": {},
   "outputs": [
    {
     "data": {
      "text/plain": [
       "array([0, 2, 1, 2, 1, 1, 1, 0, 2, 1, 0, 2, 1, 1, 0, 0, 1, 2, 1, 2, 1, 2,\n",
       "       2, 1, 2, 1, 2, 0, 1, 0], dtype=int64)"
      ]
     },
     "execution_count": 36,
     "metadata": {},
     "output_type": "execute_result"
    }
   ],
   "source": [
    "ensemble1_meta = LogisticRegression()\n",
    "ensemble1_meta.fit(ensemble1_meta_stack, y_test)\n",
    "ensemble1_predictions = ensemble1_meta.predict(ensemble1_meta_stack)\n",
    "ensemble1_predictions"
   ]
  },
  {
   "cell_type": "markdown",
   "id": "9014f7b8",
   "metadata": {},
   "source": [
    "#### Metrics"
   ]
  },
  {
   "cell_type": "code",
   "execution_count": 37,
   "id": "86c0dda6",
   "metadata": {},
   "outputs": [],
   "source": [
    "ensemble1_accuracy = accuracy_score(y_test, ensemble1_predictions)\n",
    "ensemble1_bal_accuracy = balanced_accuracy_score(y_test, ensemble1_predictions)\n",
    "ensemble1_mcc = matthews_corrcoef(y_test, ensemble1_predictions)\n",
    "ensemble1_recall = recall_score(y_test, ensemble1_predictions, average='weighted')\n",
    "ensemble1_precision = precision_score(y_test, ensemble1_predictions, average='weighted')\n",
    "ensemble1_f1 = f1_score(y_test, ensemble1_predictions, average='weighted')\n",
    "ensemble1_conf_matrix = confusion_matrix(y_test, ensemble1_predictions)\n",
    "ensemble1_specificity = 2 * ensemble1_accuracy - ensemble1_recall"
   ]
  },
  {
   "cell_type": "code",
   "execution_count": 38,
   "id": "307c8a94",
   "metadata": {},
   "outputs": [
    {
     "name": "stdout",
     "output_type": "stream",
     "text": [
      "Accuracy: 0.9666666666666667\n",
      "Balanced Accuracy: 0.9696969696969697\n",
      "Matthews Corrcoef: 0.9503480387433456\n",
      "Recall: 0.9666666666666667\n",
      "Precision: 0.9692307692307692\n",
      "F1: 0.9665396825396826\n",
      "Confucion Matrix:\n",
      " [[ 7  0  0]\n",
      " [ 0 12  0]\n",
      " [ 0  1 10]]\n",
      "Specificity: 0.9666666666666667\n"
     ]
    }
   ],
   "source": [
    "print(f\"Accuracy: {ensemble1_accuracy}\")\n",
    "print(f\"Balanced Accuracy: {ensemble1_bal_accuracy}\")\n",
    "print(f\"Matthews Corrcoef: {ensemble1_mcc}\")\n",
    "print(f\"Recall: {ensemble1_recall}\")\n",
    "print(f\"Precision: {ensemble1_precision}\")\n",
    "print(f\"F1: {ensemble1_f1}\")\n",
    "print(f\"Confucion Matrix:\\n {ensemble1_conf_matrix}\")\n",
    "print(f\"Specificity: {ensemble1_specificity}\")"
   ]
  },
  {
   "cell_type": "markdown",
   "id": "2bf4037a",
   "metadata": {},
   "source": [
    "Ensemble Classifier 2"
   ]
  },
  {
   "cell_type": "code",
   "execution_count": 39,
   "id": "aca9d815",
   "metadata": {},
   "outputs": [],
   "source": [
    "ensemble2_base_1 = BaggingClassifier()\n",
    "ensemble2_base_2 = ExtraTreeClassifier()\n",
    "ensemble2_base_3 = RandomForestClassifier()"
   ]
  },
  {
   "cell_type": "code",
   "execution_count": 40,
   "id": "53ed37b7",
   "metadata": {},
   "outputs": [
    {
     "data": {
      "text/html": [
       "<style>#sk-container-id-2 {color: black;background-color: white;}#sk-container-id-2 pre{padding: 0;}#sk-container-id-2 div.sk-toggleable {background-color: white;}#sk-container-id-2 label.sk-toggleable__label {cursor: pointer;display: block;width: 100%;margin-bottom: 0;padding: 0.3em;box-sizing: border-box;text-align: center;}#sk-container-id-2 label.sk-toggleable__label-arrow:before {content: \"▸\";float: left;margin-right: 0.25em;color: #696969;}#sk-container-id-2 label.sk-toggleable__label-arrow:hover:before {color: black;}#sk-container-id-2 div.sk-estimator:hover label.sk-toggleable__label-arrow:before {color: black;}#sk-container-id-2 div.sk-toggleable__content {max-height: 0;max-width: 0;overflow: hidden;text-align: left;background-color: #f0f8ff;}#sk-container-id-2 div.sk-toggleable__content pre {margin: 0.2em;color: black;border-radius: 0.25em;background-color: #f0f8ff;}#sk-container-id-2 input.sk-toggleable__control:checked~div.sk-toggleable__content {max-height: 200px;max-width: 100%;overflow: auto;}#sk-container-id-2 input.sk-toggleable__control:checked~label.sk-toggleable__label-arrow:before {content: \"▾\";}#sk-container-id-2 div.sk-estimator input.sk-toggleable__control:checked~label.sk-toggleable__label {background-color: #d4ebff;}#sk-container-id-2 div.sk-label input.sk-toggleable__control:checked~label.sk-toggleable__label {background-color: #d4ebff;}#sk-container-id-2 input.sk-hidden--visually {border: 0;clip: rect(1px 1px 1px 1px);clip: rect(1px, 1px, 1px, 1px);height: 1px;margin: -1px;overflow: hidden;padding: 0;position: absolute;width: 1px;}#sk-container-id-2 div.sk-estimator {font-family: monospace;background-color: #f0f8ff;border: 1px dotted black;border-radius: 0.25em;box-sizing: border-box;margin-bottom: 0.5em;}#sk-container-id-2 div.sk-estimator:hover {background-color: #d4ebff;}#sk-container-id-2 div.sk-parallel-item::after {content: \"\";width: 100%;border-bottom: 1px solid gray;flex-grow: 1;}#sk-container-id-2 div.sk-label:hover label.sk-toggleable__label {background-color: #d4ebff;}#sk-container-id-2 div.sk-serial::before {content: \"\";position: absolute;border-left: 1px solid gray;box-sizing: border-box;top: 0;bottom: 0;left: 50%;z-index: 0;}#sk-container-id-2 div.sk-serial {display: flex;flex-direction: column;align-items: center;background-color: white;padding-right: 0.2em;padding-left: 0.2em;position: relative;}#sk-container-id-2 div.sk-item {position: relative;z-index: 1;}#sk-container-id-2 div.sk-parallel {display: flex;align-items: stretch;justify-content: center;background-color: white;position: relative;}#sk-container-id-2 div.sk-item::before, #sk-container-id-2 div.sk-parallel-item::before {content: \"\";position: absolute;border-left: 1px solid gray;box-sizing: border-box;top: 0;bottom: 0;left: 50%;z-index: -1;}#sk-container-id-2 div.sk-parallel-item {display: flex;flex-direction: column;z-index: 1;position: relative;background-color: white;}#sk-container-id-2 div.sk-parallel-item:first-child::after {align-self: flex-end;width: 50%;}#sk-container-id-2 div.sk-parallel-item:last-child::after {align-self: flex-start;width: 50%;}#sk-container-id-2 div.sk-parallel-item:only-child::after {width: 0;}#sk-container-id-2 div.sk-dashed-wrapped {border: 1px dashed gray;margin: 0 0.4em 0.5em 0.4em;box-sizing: border-box;padding-bottom: 0.4em;background-color: white;}#sk-container-id-2 div.sk-label label {font-family: monospace;font-weight: bold;display: inline-block;line-height: 1.2em;}#sk-container-id-2 div.sk-label-container {text-align: center;}#sk-container-id-2 div.sk-container {/* jupyter's `normalize.less` sets `[hidden] { display: none; }` but bootstrap.min.css set `[hidden] { display: none !important; }` so we also need the `!important` here to be able to override the default hidden behavior on the sphinx rendered scikit-learn.org. See: https://github.com/scikit-learn/scikit-learn/issues/21755 */display: inline-block !important;position: relative;}#sk-container-id-2 div.sk-text-repr-fallback {display: none;}</style><div id=\"sk-container-id-2\" class=\"sk-top-container\"><div class=\"sk-text-repr-fallback\"><pre>RandomForestClassifier()</pre><b>In a Jupyter environment, please rerun this cell to show the HTML representation or trust the notebook. <br />On GitHub, the HTML representation is unable to render, please try loading this page with nbviewer.org.</b></div><div class=\"sk-container\" hidden><div class=\"sk-item\"><div class=\"sk-estimator sk-toggleable\"><input class=\"sk-toggleable__control sk-hidden--visually\" id=\"sk-estimator-id-2\" type=\"checkbox\" checked><label for=\"sk-estimator-id-2\" class=\"sk-toggleable__label sk-toggleable__label-arrow\">RandomForestClassifier</label><div class=\"sk-toggleable__content\"><pre>RandomForestClassifier()</pre></div></div></div></div></div>"
      ],
      "text/plain": [
       "RandomForestClassifier()"
      ]
     },
     "execution_count": 40,
     "metadata": {},
     "output_type": "execute_result"
    }
   ],
   "source": [
    "ensemble2_base_1.fit(X_train,y_train)\n",
    "ensemble2_base_2.fit(X_train,y_train)\n",
    "ensemble2_base_3.fit(X_train,y_train)"
   ]
  },
  {
   "cell_type": "code",
   "execution_count": 41,
   "id": "cd11c196",
   "metadata": {},
   "outputs": [],
   "source": [
    "ensemble2_probab1 = ensemble1_base_1.predict_proba(X_test)\n",
    "ensemble2_probab2 = ensemble1_base_2.predict_proba(X_test)\n",
    "ensemble2_probab3 = ensemble1_base_3.predict_proba(X_test)"
   ]
  },
  {
   "cell_type": "code",
   "execution_count": 42,
   "id": "08b12412",
   "metadata": {},
   "outputs": [],
   "source": [
    "ensemble2_meta_stack = np.column_stack((ensemble2_probab1, ensemble2_probab2, ensemble2_probab3))"
   ]
  },
  {
   "cell_type": "code",
   "execution_count": 43,
   "id": "583feb06",
   "metadata": {},
   "outputs": [
    {
     "data": {
      "text/plain": [
       "array([0, 2, 1, 2, 1, 1, 2, 0, 2, 1, 0, 2, 1, 1, 0, 0, 1, 2, 1, 2, 1, 2,\n",
       "       2, 1, 2, 1, 2, 0, 1, 0], dtype=int64)"
      ]
     },
     "execution_count": 43,
     "metadata": {},
     "output_type": "execute_result"
    }
   ],
   "source": [
    "ensemble2_meta = GradientBoostingClassifier()\n",
    "ensemble2_meta.fit(ensemble2_meta_stack, y_test)\n",
    "ensemble2_predictions = ensemble2_meta.predict(ensemble2_meta_stack)\n",
    "ensemble2_predictions"
   ]
  },
  {
   "cell_type": "code",
   "execution_count": 44,
   "id": "cd6d9c96",
   "metadata": {},
   "outputs": [],
   "source": [
    "ensemble2_accuracy = accuracy_score(y_test, ensemble2_predictions)\n",
    "ensemble2_bal_accuracy = balanced_accuracy_score(y_test, ensemble2_predictions)\n",
    "ensemble2_mcc = matthews_corrcoef(y_test, ensemble2_predictions)\n",
    "ensemble2_recall = recall_score(y_test, ensemble2_predictions, average='weighted')\n",
    "ensemble2_precision = precision_score(y_test, ensemble2_predictions, average='weighted')\n",
    "ensemble2_f1 = f1_score(y_test, ensemble2_predictions, average='weighted')\n",
    "ensemble2_conf_matrix = confusion_matrix(y_test, ensemble2_predictions)\n",
    "ensemble2_specificity = 2 * ensemble2_accuracy - ensemble2_recall"
   ]
  },
  {
   "cell_type": "code",
   "execution_count": 45,
   "id": "d9ee1adf",
   "metadata": {},
   "outputs": [
    {
     "name": "stdout",
     "output_type": "stream",
     "text": [
      "Accuracy: 1.0\n",
      "Balanced Accuracy: 1.0\n",
      "Matthews Corrcoef: 1.0\n",
      "Recall: 1.0\n",
      "Precision: 1.0\n",
      "F1: 1.0\n",
      "Confucion Matrix:\n",
      " [[ 7  0  0]\n",
      " [ 0 12  0]\n",
      " [ 0  0 11]]\n",
      "Specificity: 1.0\n"
     ]
    }
   ],
   "source": [
    "print(f\"Accuracy: {ensemble2_accuracy}\")\n",
    "print(f\"Balanced Accuracy: {ensemble2_bal_accuracy}\")\n",
    "print(f\"Matthews Corrcoef: {ensemble2_mcc}\")\n",
    "print(f\"Recall: {ensemble2_recall}\")\n",
    "print(f\"Precision: {ensemble2_precision}\")\n",
    "print(f\"F1: {ensemble2_f1}\")\n",
    "print(f\"Confucion Matrix:\\n {ensemble2_conf_matrix}\")\n",
    "print(f\"Specificity: {ensemble2_specificity}\")"
   ]
  },
  {
   "cell_type": "markdown",
   "id": "cc925c9c",
   "metadata": {},
   "source": [
    "#### Graph comparing based on balanced accuracy"
   ]
  },
  {
   "cell_type": "code",
   "execution_count": 46,
   "id": "541d2ffb",
   "metadata": {},
   "outputs": [],
   "source": [
    "models = ['Ensemble_1', 'Ensemble_2']\n",
    "balanced_accuracies = [ensemble1_bal_accuracy, ensemble2_bal_accuracy]"
   ]
  },
  {
   "cell_type": "code",
   "execution_count": 47,
   "id": "5238bf42",
   "metadata": {},
   "outputs": [
    {
     "data": {
      "image/png": "[encoded data removed]",
      "text/plain": [
       "<Figure size 1000x600 with 1 Axes>"
      ]
     },
     "metadata": {},
     "output_type": "display_data"
    }
   ],
   "source": [
    "plt.figure(figsize=(10, 6))\n",
    "plt.plot(models, balanced_accuracies, marker='o', linestyle='-')\n",
    "plt.xlabel('Models')\n",
    "plt.ylabel('Balanced Accuracy')\n",
    "plt.title('Comparison of Balanced Accuracy for the Different Models')\n",
    "plt.ylim(0.9, 1.01)  # Set the y-axis limit to ensure the same scale\n",
    "plt.xticks(rotation=45)  # Rotate x-axis labels for readability\n",
    "plt.grid(True)  # Add gridlines for better visualization\n",
    "plt.tight_layout()\n",
    "plt.show()"
   ]
  },
  {
   "cell_type": "markdown",
   "id": "a8b68f67",
   "metadata": {},
   "source": [
    "#### Table containing metrics of the two ensembled models above"
   ]
  },
  {
   "cell_type": "code",
   "execution_count": 48,
   "id": "62781abe",
   "metadata": {},
   "outputs": [
    {
     "data": {
      "text/html": [
       "<div>\n",
       "<style scoped>\n",
       "    .dataframe tbody tr th:only-of-type {\n",
       "        vertical-align: middle;\n",
       "    }\n",
       "\n",
       "    .dataframe tbody tr th {\n",
       "        vertical-align: top;\n",
       "    }\n",
       "\n",
       "    .dataframe thead th {\n",
       "        text-align: right;\n",
       "    }\n",
       "</style>\n",
       "<table border=\"1\" class=\"dataframe\">\n",
       "  <thead>\n",
       "    <tr style=\"text-align: right;\">\n",
       "      <th></th>\n",
       "      <th>Model</th>\n",
       "      <th>Accuracy</th>\n",
       "      <th>Balanced Accuracy</th>\n",
       "      <th>Matthews Corrcoef</th>\n",
       "      <th>Recall</th>\n",
       "      <th>Precision</th>\n",
       "      <th>F1</th>\n",
       "      <th>Specificity</th>\n",
       "      <th>Confusion Matrix</th>\n",
       "    </tr>\n",
       "  </thead>\n",
       "  <tbody>\n",
       "    <tr>\n",
       "      <th>0</th>\n",
       "      <td>Ensemble_1</td>\n",
       "      <td>0.966667</td>\n",
       "      <td>0.969697</td>\n",
       "      <td>0.950348</td>\n",
       "      <td>0.966667</td>\n",
       "      <td>0.969231</td>\n",
       "      <td>0.96654</td>\n",
       "      <td>0.966667</td>\n",
       "      <td>[[7, 0, 0], [0, 12, 0], [0, 1, 10]]</td>\n",
       "    </tr>\n",
       "    <tr>\n",
       "      <th>1</th>\n",
       "      <td>Ensemble_2</td>\n",
       "      <td>1.000000</td>\n",
       "      <td>1.000000</td>\n",
       "      <td>1.000000</td>\n",
       "      <td>1.000000</td>\n",
       "      <td>1.000000</td>\n",
       "      <td>1.00000</td>\n",
       "      <td>1.000000</td>\n",
       "      <td>[[7, 0, 0], [0, 12, 0], [0, 0, 11]]</td>\n",
       "    </tr>\n",
       "  </tbody>\n",
       "</table>\n",
       "</div>"
      ],
      "text/plain": [
       "        Model  Accuracy  Balanced Accuracy  Matthews Corrcoef    Recall  \\\n",
       "0  Ensemble_1  0.966667           0.969697           0.950348  0.966667   \n",
       "1  Ensemble_2  1.000000           1.000000           1.000000  1.000000   \n",
       "\n",
       "   Precision       F1  Specificity                     Confusion Matrix  \n",
       "0   0.969231  0.96654     0.966667  [[7, 0, 0], [0, 12, 0], [0, 1, 10]]  \n",
       "1   1.000000  1.00000     1.000000  [[7, 0, 0], [0, 12, 0], [0, 0, 11]]  "
      ]
     },
     "execution_count": 48,
     "metadata": {},
     "output_type": "execute_result"
    }
   ],
   "source": [
    "ensemble_data = {\n",
    "    'Model': ['Ensemble_1', 'Ensemble_2'],\n",
    "    'Accuracy': [ensemble1_accuracy, ensemble2_accuracy],\n",
    "    'Balanced Accuracy': [ensemble1_bal_accuracy, ensemble2_bal_accuracy],\n",
    "    'Matthews Corrcoef': [ensemble1_mcc, ensemble2_mcc],\n",
    "    'Recall': [ensemble1_recall, ensemble2_recall],\n",
    "    'Precision': [ensemble1_precision, ensemble2_precision],\n",
    "    'F1': [ensemble1_f1, ensemble2_f1],\n",
    "    'Specificity': [ensemble1_specificity, ensemble2_specificity],\n",
    "    'Confusion Matrix': [ensemble1_conf_matrix, ensemble2_conf_matrix]\n",
    "}\n",
    "\n",
    "ensemble_metric_table = pd.DataFrame(ensemble_data)\n",
    "ensemble_metric_table.to_csv('ensemble_metrics.csv', index=False)\n",
    "ensemble_metric_table"
   ]
  },
  {
   "cell_type": "code",
   "execution_count": 49,
   "id": "9744b5e0",
   "metadata": {},
   "outputs": [
    {
     "name": "stderr",
     "output_type": "stream",
     "text": [
      "C:\\Users\\green\\Anadconda\\lib\\site-packages\\matplotlib\\text.py:1279: FutureWarning: elementwise comparison failed; returning scalar instead, but in the future will perform elementwise comparison\n",
      "  if s != self._text:\n"
     ]
    },
    {
     "data": {
      "image/png": "[encoded data removed]",
      "text/plain": [
       "<Figure size 1000x600 with 1 Axes>"
      ]
     },
     "metadata": {},
     "output_type": "display_data"
    }
   ],
   "source": [
    "fig2, ax2 = plt.subplots(figsize=(10, 6))\n",
    "ax2.axis('off')\n",
    "tbl2 = table(ax2, ensemble_metric_table, loc='center', cellLoc='center', colWidths=[0.15, 0.15, 0.15, 0.15, 0.15, 0.15, 0.15, 0.15, 0.15])\n",
    "tbl2.auto_set_font_size(False)\n",
    "tbl2.set_fontsize(10)\n",
    "tbl2.scale(1.5, 3.0)  # Adjust the scaling factor as needed\n",
    "\n",
    "plt.savefig('pt3_table_image.png', bbox_inches='tight', pad_inches=0.1, dpi=300)"
   ]
  },
  {
   "cell_type": "code",
   "execution_count": null,
   "id": "792a528d",
   "metadata": {},
   "outputs": [],
   "source": []
  }
 ],
 "metadata": {
  "kernelspec": {
   "display_name": "Python 3 (ipykernel)",
   "language": "python",
   "name": "python3"
  },
  "language_info": {
   "codemirror_mode": {
    "name": "ipython",
    "version": 3
   },
   "file_extension": ".py",
   "mimetype": "text/x-python",
   "name": "python",
   "nbconvert_exporter": "python",
   "pygments_lexer": "ipython3",
   "version": "3.10.11"
  }
 },
 "nbformat": 4,
 "nbformat_minor": 5
}
